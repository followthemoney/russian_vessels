{
 "cells": [
  {
   "cell_type": "code",
   "execution_count": null,
   "metadata": {},
   "outputs": [],
   "source": [
    "import sys\n",
    "sys.path.append('../src/')\n",
    "\n",
    "%load_ext autoreload\n",
    "%autoreload 2"
   ]
  },
  {
   "cell_type": "code",
   "execution_count": null,
   "metadata": {},
   "outputs": [],
   "source": [
    "import pandas as pd\n",
    "import geopandas as gpd\n",
    "import numpy as np\n",
    "from pathlib import Path\n",
    "from zipfile import ZipFile\n",
    "from io import BytesIO"
   ]
  },
  {
   "cell_type": "code",
   "execution_count": null,
   "metadata": {},
   "outputs": [],
   "source": [
    "# Set some constants\n",
    "\n",
    "PATH = Path.cwd().parent.joinpath('data')"
   ]
  },
  {
   "cell_type": "code",
   "execution_count": null,
   "metadata": {},
   "outputs": [],
   "source": [
    "# Import Nato vessels\n",
    "dfs = []\n",
    "\n",
    "for file in PATH.joinpath('navy', 'gfw_tracks').rglob('*.zip'):\n",
    "    name = file.stem.split(' - ')[0]\n",
    "    zf = ZipFile(file)\n",
    "    df = pd.read_csv(zf.open('data.csv'))\n",
    "    df['vessel_name'] = name.lower()\n",
    "    dfs.append(df)\n",
    "\n",
    "nato = pd.concat(dfs)\n",
    "nato.timestamp = pd.to_datetime(nato.timestamp)\n",
    "nato.to_parquet(PATH.joinpath('voi', 'processed', 'nato_vessels.geojson'))\n",
    "nato = gpd.GeoDataFrame(nato,\n",
    "                        geometry=gpd.points_from_xy(x=nato.lon,\n",
    "                                                    y=nato.lat),\n",
    "                        crs=4326)\n",
    "nato = nato.to_crs(28992)\n",
    "len(nato)\n"
   ]
  },
  {
   "cell_type": "code",
   "execution_count": null,
   "metadata": {},
   "outputs": [],
   "source": [
    "# Import vessels\n",
    "\n",
    "vessels = pd.read_parquet(PATH.joinpath('voi', 'processed', 'vessel_collection.parquet'))\n",
    "\n",
    "vessels = gpd.GeoDataFrame(vessels, \n",
    "                           geometry=gpd.points_from_xy(x=vessels.longitude, \n",
    "                                                       y=vessels.latitude),\n",
    "                           crs=4326)\n",
    "vessels = vessels.to_crs(28992)\n",
    "vessels.reset_index(inplace=True)\n",
    "len(vessels)"
   ]
  },
  {
   "cell_type": "code",
   "execution_count": null,
   "metadata": {},
   "outputs": [],
   "source": [
    "# Perform a spatial join\n",
    "\n",
    "df = gpd.sjoin_nearest(nato, vessels).merge(vessels, left_on='index_right', right_index=True)\n",
    "\n",
    "df['distance'] = df.apply(lambda r: r['geometry_x'].distance(r['geometry_y']) / 1000, axis=1)\n",
    "\n",
    "df = df[df['distance'] < 10].copy()\n",
    "len(df)\n"
   ]
  },
  {
   "cell_type": "code",
   "execution_count": null,
   "metadata": {},
   "outputs": [],
   "source": [
    "# Clean it up\n",
    "\n",
    "cols = [col for col in df.columns if '_y' in col]\n",
    "df.drop(cols, inplace=True, axis=1)\n",
    "df.drop(['index_right', 'seg_id'], inplace=True, axis=1)\n",
    "df.columns = df.columns.str.replace('_x', '')\n",
    "df = df.rename(columns={'t': 'timestamp_vessel',\n",
    "                        'timestamp': 'timestamp_nato',\n",
    "                        'lon': 'longitude_nato',\n",
    "                        'lat': 'latitude_nato',\n",
    "                        'longitude': 'longitude_vessel',\n",
    "                        'latitude': 'latitude_vessel',\n",
    "                        'name': 'name_vessel', \n",
    "                        'vessel_name_left': 'name_nato'})\n"
   ]
  },
  {
   "cell_type": "code",
   "execution_count": null,
   "metadata": {},
   "outputs": [],
   "source": [
    "# Filter on time difference\n",
    "\n",
    "df['time_difference'] = abs(pd.to_datetime(df.timestamp_nato) - pd.to_datetime(df.timestamp_vessel))##.astype('timedelta64[s]').dt.seconds / 3600\n",
    "temporal_proximity = np.timedelta64(1, 'h')\n",
    "df_proximity = df[df.time_difference <= temporal_proximity].copy()\n",
    "gdf = gpd.GeoDataFrame(df_proximity)\n",
    "gdf = gdf.drop('time_difference', axis=1)\n",
    "len(gdf)"
   ]
  },
  {
   "cell_type": "code",
   "execution_count": null,
   "metadata": {},
   "outputs": [],
   "source": [
    "gdf.to_file(PATH.joinpath('voi', 'processed', 'nato_vicinity.geojson'))"
   ]
  },
  {
   "cell_type": "code",
   "execution_count": null,
   "metadata": {},
   "outputs": [],
   "source": [
    "# Show\n",
    "\n",
    "gdf[['vessel_name', 'geometry', 'vessel_name']].explore(tiles='CartoDB Positron')"
   ]
  },
  {
   "cell_type": "markdown",
   "metadata": {},
   "source": [
    "### Research NATO exercises in North Sea\n",
    "\n",
    "There are several date ranges and locations known with NATO exercises in the air and at sea. Let's see which vessels were in the neighbourhood at those times. There are roughly two areas of interest: \n",
    "\n",
    "1. The Waddenzee, North Sea (corner NL, DE, DK)\n",
    "2. Belgian coast, Zeeland up until Rotterdam"
   ]
  },
  {
   "cell_type": "code",
   "execution_count": null,
   "metadata": {},
   "outputs": [],
   "source": [
    "# First create two bounding boxes for the areas of interest\n",
    "\n",
    "NORTH_X_MIN = 4.26\n",
    "NORTH_X_MAX = 9.09\n",
    "NORTH_Y_MIN = 53.22\n",
    "NORTH_Y_MAX = 55.24\n",
    "\n",
    "SOUTH_X_MIN = 2.22\n",
    "SOUTH_X_MAX = 4.45\n",
    "SOUTH_Y_MIN = 51.19\n",
    "SOUTH_Y_MAX = 51.99"
   ]
  },
  {
   "cell_type": "code",
   "execution_count": null,
   "metadata": {},
   "outputs": [],
   "source": [
    "# Import vessels north\n",
    "\n",
    "df = pd.read_parquet(PATH.joinpath('voi', 'processed', 'vessel_collection.parquet'), \n",
    "                                columns=['latitude', 'longitude', 'vessel_name', 't'],\n",
    "                                filters = [('latitude', '>', NORTH_Y_MIN),\n",
    "                                            ('latitude', '<', NORTH_Y_MAX),\n",
    "                                            ('longitude', '>', NORTH_X_MIN),\n",
    "                                            ('longitude', '<', NORTH_Y_MAX)])\n",
    "\n",
    "df['region'] = 'north'\n",
    "len(df)\n"
   ]
  },
  {
   "cell_type": "code",
   "execution_count": null,
   "metadata": {},
   "outputs": [],
   "source": [
    "# Filter date ranges\n",
    "\n",
    "north = pd.concat([df.loc['2014-03-31': '2014-04-11'],\n",
    "                   df.loc['2015-04-13': '2015-04-24'],\n",
    "                   df.loc['2016-04-11': '2016-04-25'],\n",
    "                   df.loc['2018-04-08': '2018-04-18'],\n",
    "                   df.loc['2019-04-01': '2019-04-12'],\n",
    "                   df.loc['2020-04-14': '2020-05-01'],\n",
    "                   df.loc['2021-09-14': '2021-09-20'],\n",
    "                   df.loc['2022-01-24': '2022-01-28'],\n",
    "                   df.loc['2022-03-28': '2022-04-08'],\n",
    "                   df.loc['2022-10-10': '2022-10-14'],\n",
    "                   df.loc['2022-10-17': '2022-10-23'],\n",
    "                   df.loc['2023-02-02': '2023-02-13'],\n",
    "                   df.loc['2023-12-11': '2023-12-14'],\n",
    "                   df.loc['2017-03-27': '2017-04-07']\n",
    "                   ])\n",
    "\n",
    "len(north)"
   ]
  },
  {
   "cell_type": "code",
   "execution_count": null,
   "metadata": {},
   "outputs": [],
   "source": [
    "# Import vessels south\n",
    "\n",
    "df = pd.read_parquet(PATH.joinpath('voi', 'processed', 'vessel_collection.parquet'), \n",
    "                                    columns=['latitude', 'longitude', 'vessel_name', 't'],\n",
    "                                    filters = [('latitude', '>', SOUTH_Y_MIN),\n",
    "                                                ('latitude', '<', SOUTH_Y_MAX),\n",
    "                                                ('longitude', '>', SOUTH_X_MIN),\n",
    "                                                ('longitude', '<', SOUTH_Y_MAX)])\n",
    "df['region'] = 'south'\n",
    "len(df)\n",
    "\n"
   ]
  },
  {
   "cell_type": "code",
   "execution_count": null,
   "metadata": {},
   "outputs": [],
   "source": [
    "# Filter date ranges\n",
    "\n",
    "south = pd.concat([df.loc['2021-03-03': '2021-03-31'],\n",
    "                   df.loc['2021-11-22': '2021-12-15'],\n",
    "                   df.loc['2023-11-21': '2023-12-15'],\n",
    "                   df.loc['2022-10-17': '2022-10-30'],\n",
    "                   df.loc['2021-10-07': '2021-10-21']\n",
    "                ])\n",
    "\n",
    "len(south)"
   ]
  },
  {
   "cell_type": "code",
   "execution_count": null,
   "metadata": {},
   "outputs": [],
   "source": [
    "# Bring it all together\n",
    "\n",
    "df = pd.concat([north, south])\n",
    "\n",
    "gdf = gpd.GeoDataFrame(df, geometry=gpd.points_from_xy(x=df.longitude, y=df.latitude), crs=4326)\n",
    "gdf['timestamp'] = gdf.index\n",
    "gdf.reset_index(drop=True, inplace=True)\n",
    "len(gdf)"
   ]
  },
  {
   "cell_type": "code",
   "execution_count": null,
   "metadata": {},
   "outputs": [],
   "source": [
    "gdf[gdf.vessel_name == 'sirius'][['geometry', 'vessel_name']].explore()"
   ]
  },
  {
   "cell_type": "code",
   "execution_count": null,
   "metadata": {},
   "outputs": [],
   "source": [
    "gdf.to_file(PATH.joinpath('voi', 'processed', 'oefeningen.geojson'), driver='GeoJSON')"
   ]
  },
  {
   "cell_type": "code",
   "execution_count": null,
   "metadata": {},
   "outputs": [],
   "source": []
  }
 ],
 "metadata": {
  "kernelspec": {
   "display_name": "geo",
   "language": "python",
   "name": "geo"
  },
  "language_info": {
   "codemirror_mode": {
    "name": "ipython",
    "version": 3
   },
   "file_extension": ".py",
   "mimetype": "text/x-python",
   "name": "python",
   "nbconvert_exporter": "python",
   "pygments_lexer": "ipython3",
   "version": "3.9.18"
  }
 },
 "nbformat": 4,
 "nbformat_minor": 2
}
