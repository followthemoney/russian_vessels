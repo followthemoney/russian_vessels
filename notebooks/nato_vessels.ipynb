{
 "cells": [
  {
   "cell_type": "code",
   "execution_count": null,
   "metadata": {},
   "outputs": [],
   "source": [
    "import sys\n",
    "sys.path.append('../src/')\n",
    "\n",
    "%load_ext autoreload\n",
    "%autoreload 2"
   ]
  },
  {
   "cell_type": "code",
   "execution_count": null,
   "metadata": {},
   "outputs": [],
   "source": [
    "import pandas as pd\n",
    "import geopandas as gpd\n",
    "import numpy as np\n",
    "from pathlib import Path\n",
    "from zipfile import ZipFile\n",
    "from io import BytesIO"
   ]
  },
  {
   "cell_type": "code",
   "execution_count": null,
   "metadata": {},
   "outputs": [],
   "source": [
    "# Set some constants\n",
    "\n",
    "PATH = Path.cwd().parent.joinpath('data')\n",
    "\n",
    "# Create a bounding box for North Sea\n",
    "\n",
    "MIN_X = 0\n",
    "MIN_Y = 50\n",
    "MAX_X = 13\n",
    "MAX_Y = 58"
   ]
  },
  {
   "cell_type": "code",
   "execution_count": null,
   "metadata": {},
   "outputs": [],
   "source": [
    "# Import Nato vessels\n",
    "dfs = []\n",
    "\n",
    "for file in PATH.joinpath('navy', 'gfw_tracks').rglob('*.zip'):\n",
    "    name = file.stem.split(' - ')[0]\n",
    "    zf = ZipFile(file)\n",
    "    df = pd.read_csv(zf.open('data.csv'))\n",
    "    df['vessel_name'] = name.lower()\n",
    "    dfs.append(df)\n",
    "\n",
    "nato = pd.concat(dfs)\n",
    "nato.timestamp = pd.to_datetime(nato.timestamp)\n",
    "nato.to_parquet(PATH.joinpath('voi', 'processed', 'nato_vessels.geojson'))\n",
    "nato = gpd.GeoDataFrame(nato,\n",
    "                        geometry=gpd.points_from_xy(x=nato.lon,\n",
    "                                                    y=nato.lat),\n",
    "                        crs=4326)\n",
    "nato = nato.to_crs(28992)\n",
    "len(nato)\n"
   ]
  },
  {
   "cell_type": "code",
   "execution_count": null,
   "metadata": {},
   "outputs": [],
   "source": []
  },
  {
   "cell_type": "code",
   "execution_count": null,
   "metadata": {},
   "outputs": [],
   "source": [
    "# Import vessels\n",
    "\n",
    "vessels = pd.read_parquet(PATH.joinpath('voi', 'processed', 'vessels_collection.parquet'), columns=['latitude', 'longitude', 'name'])\n",
    "vessels = gpd.GeoDataFrame(vessels, \n",
    "                           geometry=gpd.points_from_xy(x=vessels.longitude, \n",
    "                                                       y=vessels.latitude),\n",
    "                           crs=4326)\n",
    "vessels = vessels.to_crs(28992)\n",
    "vessels.reset_index(inplace=True)\n",
    "len(vessels)"
   ]
  },
  {
   "cell_type": "code",
   "execution_count": null,
   "metadata": {},
   "outputs": [],
   "source": [
    "df = gpd.sjoin_nearest(nato, vessels).merge(vessels, left_on='index_right', right_index=True)\n",
    "\n",
    "df['distance'] = df.apply(lambda r: r['geometry_x'].distance(r['geometry_y']) / 1000, axis=1)\n",
    "\n",
    "df = df[df['distance'] < 10].copy()\n",
    "len(df)\n"
   ]
  },
  {
   "cell_type": "code",
   "execution_count": null,
   "metadata": {},
   "outputs": [],
   "source": [
    "cols = [col for col in df.columns if '_y' in col]\n",
    "df.drop(cols, inplace=True, axis=1)\n",
    "df.drop(['index_right', 'seg_id'], inplace=True, axis=1)\n",
    "df.columns = df.columns.str.replace('_x', '')\n",
    "df = df.rename(columns={'t': 'timestamp_vessel',\n",
    "                        'timestamp': 'timestamp_nato',\n",
    "                        'lon': 'longitude_nato',\n",
    "                        'lat': 'latitude_nato',\n",
    "                        'longitude': 'longitude_vessel',\n",
    "                        'latitude': 'latitude_vessel',\n",
    "                        'name': 'name_vessel', \n",
    "                        'vessel_name_left': 'name_nato'})\n"
   ]
  },
  {
   "cell_type": "code",
   "execution_count": null,
   "metadata": {},
   "outputs": [],
   "source": [
    "# Filter on time difference\n",
    "\n",
    "df['time_difference'] = abs(pd.to_datetime(df.timestamp_nato) - pd.to_datetime(df.timestamp_vessel))#.astype('timedelta64[s]').dt.seconds / 3600)\n",
    "temporal_proximity = np.timedelta64(1, 'h')\n",
    "df_proximity = df[df.time_difference <= temporal_proximity].copy()\n",
    "gdf = gpd.GeoDataFrame(df_proximity)\n",
    "len(gdf)"
   ]
  },
  {
   "cell_type": "code",
   "execution_count": null,
   "metadata": {},
   "outputs": [],
   "source": [
    "# Show\n",
    "\n",
    "\n",
    "gdf[['vessel_name', 'geometry', 'vessel_name']].explore(tiles='CartoDB Positron')"
   ]
  },
  {
   "cell_type": "code",
   "execution_count": null,
   "metadata": {},
   "outputs": [],
   "source": []
  }
 ],
 "metadata": {
  "kernelspec": {
   "display_name": "geo",
   "language": "python",
   "name": "geo"
  },
  "language_info": {
   "codemirror_mode": {
    "name": "ipython",
    "version": 3
   },
   "file_extension": ".py",
   "mimetype": "text/x-python",
   "name": "python",
   "nbconvert_exporter": "python",
   "pygments_lexer": "ipython3",
   "version": "3.9.18"
  }
 },
 "nbformat": 4,
 "nbformat_minor": 2
}
