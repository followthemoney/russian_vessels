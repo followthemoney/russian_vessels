{
 "cells": [
  {
   "cell_type": "code",
   "execution_count": 1,
   "metadata": {},
   "outputs": [],
   "source": [
    "import sys\n",
    "sys.path.append('../src/')\n",
    "\n",
    "%load_ext autoreload\n",
    "%autoreload 2"
   ]
  },
  {
   "cell_type": "code",
   "execution_count": 2,
   "metadata": {},
   "outputs": [],
   "source": [
    "import pandas as pd\n",
    "import json\n",
    "from pathlib import Path\n",
    "import numpy as np\n",
    "import geopandas as gpd\n",
    "from shapely.geometry import Point, LineString, Polygon"
   ]
  },
  {
   "cell_type": "code",
   "execution_count": 3,
   "metadata": {},
   "outputs": [],
   "source": [
    "PATH = Path.cwd().parent.joinpath('data')"
   ]
  },
  {
   "cell_type": "markdown",
   "metadata": {},
   "source": [
    "# Get vessels\n",
    "\n",
    "Get vessels from [OpenSanctions](https://opensanctions.org) and Global Fishing Watch"
   ]
  },
  {
   "cell_type": "code",
   "execution_count": null,
   "metadata": {},
   "outputs": [],
   "source": [
    "# Parse Open Sanction records\n",
    "\n",
    "records = []\n",
    "with open(PATH.joinpath('vessels', 'entities.ftm.json'), 'r') as file:\n",
    "    for record in file:\n",
    "        if json.loads(record).get('schema') == 'Vessel':\n",
    "            records.append(json.loads(record).get('properties'))\n",
    "\n",
    "df = pd.DataFrame(records)\n",
    "\n",
    "cols = ['sourceUrl', 'registrationNumber', 'callSign', 'flag', 'createdAt']\n",
    "\n",
    "for col in cols:\n",
    "    df[col] = df[col].apply(lambda x: x[0] if x is not np.nan else x)\n",
    "\n",
    "df.registrationNumber = df.registrationNumber.str.replace('IMO ', '')\n",
    "\n",
    "ru = df[df.flag=='ru'][['sourceUrl', 'registrationNumber', 'topics', 'name', 'type', 'callSign', 'flag']].copy()\n",
    "len(ru)"
   ]
  },
  {
   "cell_type": "code",
   "execution_count": null,
   "metadata": {},
   "outputs": [],
   "source": [
    "# Write to file\n",
    "\n",
    "ru.to_csv(PATH.joinpath('vessels', 'sanctioned.csv'), index=False)"
   ]
  },
  {
   "cell_type": "markdown",
   "metadata": {},
   "source": [
    "## Get context layers"
   ]
  },
  {
   "cell_type": "code",
   "execution_count": null,
   "metadata": {},
   "outputs": [],
   "source": [
    "# Import telecoms\n",
    "\n",
    "dfs = []\n",
    "\n",
    "for file in PATH.joinpath('gis', 'telcom').glob('*.shp'):\n",
    "    gdf = gpd.read_file(file)\n",
    "    gdf.columns = gdf.columns.str.lower()\n",
    "    gdf = gdf.rename(columns={'naam': 'name', \n",
    "                              'eigenaar': 'owner', \n",
    "                              'name_': 'name',\n",
    "                              'pipe_name': 'name', \n",
    "                              'uuid': 'mps_uuid',\n",
    "                              'objectid': 'mps_uuid'})\n",
    "    dfs.append(gdf)\n",
    "\n",
    "gdf = pd.concat(dfs)\n",
    "\n",
    "gdf.to_file(PATH.joinpath('gis', 'infra', 'telecom.geojson'), driver='GeoJSON')"
   ]
  },
  {
   "cell_type": "code",
   "execution_count": 4,
   "metadata": {},
   "outputs": [
    {
     "name": "stderr",
     "output_type": "stream",
     "text": [
      "/home/parallels/miniconda3/envs/geo/lib/python3.10/site-packages/geopandas/io/file.py:399: UserWarning: Could not infer format, so each element will be parsed individually, falling back to `dateutil`. To ensure parsing is consistent and as-expected, please specify a format.\n",
      "  as_dt = pd.to_datetime(df[k], errors=\"ignore\")\n",
      "/home/parallels/miniconda3/envs/geo/lib/python3.10/site-packages/geopandas/io/file.py:403: UserWarning: Could not infer format, so each element will be parsed individually, falling back to `dateutil`. To ensure parsing is consistent and as-expected, please specify a format.\n",
      "  as_dt = pd.to_datetime(df[k], errors=\"ignore\", utc=True)\n"
     ]
    }
   ],
   "source": [
    "### Import context layers\n",
    "\n",
    "\n",
    "gdfs_points = []\n",
    "gdfs_lines = []\n",
    "gdfs_polygons = []\n",
    "\n",
    "cols = ['mps_uuid', 'name', 'owner', 'owner_group', 'operator', 'operator_group', 'geometry']\n",
    "\n",
    "for file in PATH.joinpath('gis', 'infra').glob('*geojson'):\n",
    "    gdf = gpd.read_file(file)\n",
    "    for col in cols:\n",
    "        if col not in gdf.columns:\n",
    "            gdf[col] = np.nan\n",
    "    gdf = gdf[cols]\n",
    "    gdf['dataset'] = file.stem\n",
    "    if type(gdf.geometry[0]) == Point:\n",
    "        gdfs_points.append(gdf)\n",
    "    elif type(gdf.geometry[0]) == LineString:\n",
    "        gdfs_lines.append(gdf)\n",
    "    elif type(gdf.geometry[0]) == Polygon:\n",
    "        gdfs_polygons.append(gdf)\n"
   ]
  },
  {
   "cell_type": "code",
   "execution_count": 5,
   "metadata": {},
   "outputs": [],
   "source": [
    "points = pd.concat(gdfs_points)\n",
    "lines = pd.concat(gdfs_lines)\n",
    "polygons = pd.concat(gdfs_polygons)\n",
    "\n",
    "points.to_parquet(PATH.joinpath('gis', 'points.parquet'))\n",
    "lines.to_parquet(PATH.joinpath('gis', 'lines.parquet'))\n",
    "polygons.to_parquet(PATH.joinpath('gis', 'polygons.parquet'))"
   ]
  },
  {
   "cell_type": "code",
   "execution_count": null,
   "metadata": {},
   "outputs": [],
   "source": []
  }
 ],
 "metadata": {
  "kernelspec": {
   "display_name": "geo",
   "language": "python",
   "name": "python3"
  },
  "language_info": {
   "codemirror_mode": {
    "name": "ipython",
    "version": 3
   },
   "file_extension": ".py",
   "mimetype": "text/x-python",
   "name": "python",
   "nbconvert_exporter": "python",
   "pygments_lexer": "ipython3",
   "version": "3.10.13"
  }
 },
 "nbformat": 4,
 "nbformat_minor": 2
}
