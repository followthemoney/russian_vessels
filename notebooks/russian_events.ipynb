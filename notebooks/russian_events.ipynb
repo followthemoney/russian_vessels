{
 "cells": [
  {
   "cell_type": "code",
   "execution_count": 1,
   "metadata": {},
   "outputs": [],
   "source": [
    "import sys\n",
    "sys.path.append('../src/')\n",
    "\n",
    "%load_ext autoreload\n",
    "%autoreload 2\n"
   ]
  },
  {
   "cell_type": "code",
   "execution_count": 2,
   "metadata": {},
   "outputs": [],
   "source": [
    "import geopandas as gpd\n",
    "import gfw\n",
    "from pathlib import Path\n",
    "import pandas as pd\n",
    "from shapely import Polygon\n",
    "from ast import literal_eval\n",
    "import random\n",
    "import string"
   ]
  },
  {
   "cell_type": "code",
   "execution_count": 3,
   "metadata": {},
   "outputs": [],
   "source": [
    "PATH = Path.cwd().parent.joinpath('data')"
   ]
  },
  {
   "cell_type": "markdown",
   "metadata": {},
   "source": [
    "## Data prep"
   ]
  },
  {
   "cell_type": "code",
   "execution_count": 4,
   "metadata": {},
   "outputs": [],
   "source": [
    "# Get EEZ region from Global Fishing Watch\n",
    "\n",
    "results = gfw.get_eez_list()\n",
    "\n",
    "countries = ['Netherlands', 'Belgium', 'Denmark', 'Germany', 'Norway', 'United Kingdom']\n",
    "eezs = []\n",
    "\n",
    "for country in countries:\n",
    "    country = [x for x in results if x.get('label') == country]\n",
    "    country = country[0].get('id')\n",
    "    eezs.append(country)\n"
   ]
  },
  {
   "cell_type": "code",
   "execution_count": null,
   "metadata": {},
   "outputs": [],
   "source": [
    "# Get events in EEZ\n",
    "\n",
    "events = ['loitering', 'port_visits', 'ais', 'fishing', 'encounter']\n",
    "results = []\n",
    "for event in events:\n",
    "    for eez in eezs:\n",
    "        result = gfw.get_events_by_flag_and_geometry(flag='RUS',\n",
    "                                                    start_date='2012-01-01',\n",
    "                                                    end_date='2024-05-01',\n",
    "                                                    event_type=event,\n",
    "                                                    geometry=None,\n",
    "                                                    region=eez,\n",
    "                                                    path_out=PATH.joinpath('events', f'{event}_{eez}.json')\n",
    "                                                    )\n",
    "        results.append(result)"
   ]
  },
  {
   "cell_type": "code",
   "execution_count": null,
   "metadata": {},
   "outputs": [],
   "source": [
    "# Parse events\n",
    "\n",
    "loitering = []\n",
    "fishing = []\n",
    "encounter = []\n",
    "port_visit = []\n",
    "\n",
    "for result in results:\n",
    "    if result != None:\n",
    "        result = result.get('entries')\n",
    "        for record in result:\n",
    "            if 'loitering' in record.keys():\n",
    "                loitering.append(record)\n",
    "            elif 'encounter' in record.keys():\n",
    "                encounter.append(record)\n",
    "            elif 'port_visit' in record.keys():\n",
    "                port_visit.append(record)\n",
    "            else:\n",
    "                fishing.append(record)\n",
    "\n",
    "loitering = pd.json_normalize(loitering)\n",
    "encounter = pd.json_normalize(encounter)\n",
    "port_visit = pd.json_normalize(port_visit)\n",
    "fishing = pd.json_normalize(fishing)\n",
    "\n",
    "print(f'Found {len(loitering)} loitering events\\n{len(encounter)} encounter events\\n{len(port_visit)} port visits\\nand {len(fishing)} fishing events')"
   ]
  },
  {
   "cell_type": "code",
   "execution_count": null,
   "metadata": {},
   "outputs": [],
   "source": [
    "# Write to file\n",
    "\n",
    "dfs = [loitering, encounter, port_visit, fishing]\n",
    "names = ['loitering.csv', 'encounter.csv', 'port_visit.csv', 'fishing.csv']\n",
    "\n",
    "for df, name in zip([dfs, names]):\n",
    "    df.to_csv(PATH.joinpath('events', name), index=False)"
   ]
  },
  {
   "cell_type": "code",
   "execution_count": null,
   "metadata": {},
   "outputs": [],
   "source": [
    "# Get vessel info and owner information\n",
    "\n",
    "# Get vessel ids\n",
    "ids = loitering['vessel.id'].tolist() + encounter['vessel.id'].tolist() + port_visit['vessel.id'].tolist() + fishing['vessel.id'].tolist()\n",
    "ids = list(set(ids))\n",
    "\n",
    "# Query Global Fishing Watch\n",
    "result = gfw.get_vessel_info(ids, PATH.joinpath('events', 'vessel_info.json'))\n",
    "\n",
    "# Parse results\n",
    "info = []\n",
    "owners = []\n",
    "\n",
    "for results in r:\n",
    "    for result in results.get('entries'):\n",
    "        res_info = result.get('registryInfo')\n",
    "        res_owners = result.get('registryOwners')\n",
    "        for inf in res_info:\n",
    "            info.append(inf)\n",
    "        for owner in res_owners:\n",
    "            owners.append(owner)\n",
    "\n",
    "info = pd.DataFrame(info)\n",
    "owners = pd.DataFrame(owners)\n",
    "\n",
    "# Write to file\n",
    "info.to_csv(PATH.joinpath('events', 'vessel_info.csv'), index=False)\n",
    "owners.to_csv(PATH.joinpath('events', 'vessel_owners.csv'), index=False)"
   ]
  },
  {
   "cell_type": "markdown",
   "metadata": {},
   "source": [
    "## Analysis"
   ]
  },
  {
   "cell_type": "code",
   "execution_count": 5,
   "metadata": {},
   "outputs": [],
   "source": [
    "# Import data\n",
    "\n",
    "loitering = pd.read_csv(PATH.joinpath('events', 'loitering.csv'))\n",
    "encounter = pd.read_csv(PATH.joinpath('events', 'encounter.csv'))\n",
    "port_visit = pd.read_csv(PATH.joinpath('events', 'port_visit.csv'))\n",
    "fishing = pd.read_csv((PATH.joinpath('events', 'fishing.csv')))\n",
    "owners = pd.read_csv(PATH.joinpath('events', 'vessel_owners.csv'))\n",
    "info = pd.read_csv(PATH.joinpath('events', 'vessel_info.csv'))"
   ]
  },
  {
   "cell_type": "code",
   "execution_count": null,
   "metadata": {},
   "outputs": [],
   "source": [
    "# Focus on Netherlands and Belgian EEZ\n",
    "\n",
    "nl_loitering_ids = loitering[loitering['regions.eez'].apply(lambda x: str(eezs[0]) in x)]['vessel.ssvid'].unique()\n",
    "be_loitering_ids = loitering[loitering['regions.eez'].apply(lambda x: str(eezs[1]) in x)]['vessel.ssvid'].unique()"
   ]
  },
  {
   "cell_type": "code",
   "execution_count": 6,
   "metadata": {},
   "outputs": [
    {
     "data": {
      "text/plain": [
       "115447"
      ]
     },
     "execution_count": 6,
     "metadata": {},
     "output_type": "execute_result"
    }
   ],
   "source": [
    "# Import pipelines and telecom\n",
    "\n",
    "lines = gpd.read_parquet(PATH.joinpath('voi', 'context', 'gis', 'lines.parquet'))\n",
    "lines.mps_uuid = lines.mps_uuid.apply(lambda x: ''.join(random.choices(string.ascii_lowercase + string.digits, k=16)) if x is None else x)\n",
    "len(lines)\n",
    "\n",
    "# Import platforms, connectors and seabed features\n",
    "\n",
    "points = gpd.read_parquet(PATH.joinpath('voi', 'context', 'gis', 'points.parquet'))\n",
    "points.mps_uuid = points.mps_uuid.apply(lambda x: ''.join(random.choices(string.ascii_lowercase + string.digits, k=16)) if x is None else x)\n",
    "len(points)\n"
   ]
  },
  {
   "cell_type": "code",
   "execution_count": 9,
   "metadata": {},
   "outputs": [
    {
     "data": {
      "text/plain": [
       "1157"
      ]
     },
     "execution_count": 9,
     "metadata": {},
     "output_type": "execute_result"
    }
   ],
   "source": [
    "# Loitering: Create geodataframe\n",
    "\n",
    "loitering = gpd.GeoDataFrame(loitering, \n",
    "                             geometry=gpd.points_from_xy(x=loitering['position.lon'],\n",
    "                                                         y=loitering['position.lat'],\n",
    "                                                         crs=4326))\n",
    "\n",
    "# Change CRS for distance measuring\n",
    "\n",
    "loitering = loitering.to_crs(28992)\n",
    "lines = lines.to_crs(28992)\n",
    "points = points.to_crs(28992)\n",
    "\n",
    "loitering_ = gpd.sjoin_nearest(loitering, lines).merge(lines[['geometry']], left_on=\"index_right\", right_index=True)\n",
    "\n",
    "loitering_[\"distance\"] = loitering_.apply(lambda r: r[\"geometry_x\"].distance(r[\"geometry_y\"]) / 1000, axis=1)\n",
    "\n",
    "loitering_.drop(['geometry_y'], axis=1, inplace=True)\n",
    "\n",
    "loitering_ = gpd.GeoDataFrame(loitering_, geometry='geometry_x', crs=28992)\n",
    "loitering_ = loitering_.to_crs(4326)\n",
    "\n",
    "# Check all loitering events in 1 km distance\n",
    "distance = 1\n",
    "\n",
    "loitering_ = loitering_[loitering_['distance'] <= distance].copy()\n",
    "\n",
    "loitering_.to_file(PATH.joinpath('voi', 'processed', 'loitering_all_vessels.geojson'), driver='GeoJSON')\n",
    "\n",
    "len(loitering_)\n"
   ]
  },
  {
   "cell_type": "code",
   "execution_count": 7,
   "metadata": {},
   "outputs": [
    {
     "data": {
      "text/plain": [
       "1105"
      ]
     },
     "execution_count": 7,
     "metadata": {},
     "output_type": "execute_result"
    }
   ],
   "source": [
    "# Fishing: Create geodataframe\n",
    "\n",
    "fishing = gpd.GeoDataFrame(fishing, \n",
    "                             geometry=gpd.points_from_xy(x=fishing['position.lon'],\n",
    "                                                         y=fishing['position.lat'],\n",
    "                                                         crs=4326))\n",
    "\n",
    "# Change CRS for distance measuring\n",
    "\n",
    "fishing = fishing.to_crs(28992)\n",
    "lines = lines.to_crs(28992)\n",
    "points = points.to_crs(28992)\n",
    "\n",
    "fishing_ = gpd.sjoin_nearest(fishing, lines).merge(lines[['geometry']], left_on=\"index_right\", right_index=True)\n",
    "\n",
    "fishing_[\"distance\"] = fishing_.apply(lambda r: r[\"geometry_x\"].distance(r[\"geometry_y\"]) / 1000, axis=1)\n",
    "\n",
    "fishing_.drop(['geometry_y'], axis=1, inplace=True)\n",
    "\n",
    "fishing_ = gpd.GeoDataFrame(fishing_, geometry='geometry_x', crs=28992)\n",
    "fishing_ = fishing_.to_crs(4326)\n",
    "\n",
    "# Check all loitering events in 1 km distance\n",
    "distance = 1\n",
    "\n",
    "fishing_ = fishing_[fishing_['distance'] <= distance].copy()\n",
    "\n",
    "fishing_.to_file(PATH.joinpath('voi', 'processed', 'fishing_all_vessels.geojson'), driver='GeoJSON')\n",
    "\n",
    "len(fishing_)\n"
   ]
  },
  {
   "cell_type": "code",
   "execution_count": 11,
   "metadata": {},
   "outputs": [
    {
     "data": {
      "text/plain": [
       "array([273333650, 273310400, 273437230, 273133200, 273298320])"
      ]
     },
     "execution_count": 11,
     "metadata": {},
     "output_type": "execute_result"
    }
   ],
   "source": [
    "# Let's explore the loitering a bit more...\n",
    "\n",
    "ids = loitering_['vessel.ssvid'].unique()\n",
    "ids[0:5]"
   ]
  },
  {
   "cell_type": "code",
   "execution_count": 14,
   "metadata": {},
   "outputs": [],
   "source": [
    "owners.ssvid = owners.ssvid.astype('int')"
   ]
  },
  {
   "cell_type": "code",
   "execution_count": 15,
   "metadata": {},
   "outputs": [
    {
     "data": {
      "text/plain": [
       "282"
      ]
     },
     "execution_count": 15,
     "metadata": {},
     "output_type": "execute_result"
    }
   ],
   "source": [
    "loitering_owners = owners[owners.ssvid.isin(ids)].copy()\n",
    "len(loitering_owners)"
   ]
  },
  {
   "cell_type": "code",
   "execution_count": 19,
   "metadata": {},
   "outputs": [
    {
     "data": {
      "text/plain": [
       "name\n",
       "VOLGA SHIPPING JOINT STOCK            19\n",
       "NORTHERN SHIPPING                     16\n",
       "NORTH WESTERN FLEET                    7\n",
       "GTLK MALTA                             6\n",
       "RUSSIA GOVT                            6\n",
       "                                      ..\n",
       "HARVEST                                1\n",
       "KALININ FISHING COLLECTIVE FARM JA     1\n",
       "ATLANTRYBFLOT JSC                      1\n",
       "OZERNOVSKIY RYBOKONSERVNYY             1\n",
       "OSTROV SAKHALIN JSC                    1\n",
       "Name: count, Length: 159, dtype: int64"
      ]
     },
     "execution_count": 19,
     "metadata": {},
     "output_type": "execute_result"
    }
   ],
   "source": [
    "loitering_owners.name.value_counts()"
   ]
  },
  {
   "cell_type": "code",
   "execution_count": null,
   "metadata": {},
   "outputs": [],
   "source": []
  },
  {
   "cell_type": "code",
   "execution_count": null,
   "metadata": {},
   "outputs": [],
   "source": []
  },
  {
   "cell_type": "code",
   "execution_count": null,
   "metadata": {},
   "outputs": [],
   "source": []
  },
  {
   "cell_type": "code",
   "execution_count": null,
   "metadata": {},
   "outputs": [],
   "source": [
    "# Create Polygons for ports\n",
    "\n",
    "ijmuiden = ((4.504274, 52.493004),\n",
    "          (4.910082, 52.449922),\n",
    "          (4.89085588546282, 52.37956124860245),\n",
    "          (4.394411, 52.413918),\n",
    "          (4.504274, 52.493004))\n",
    "\n",
    "rotterdam = ((3.892931,52.034854),\n",
    "             (4.443900,51.956091),\n",
    "             (4.423893,51.803771),\n",
    "             (3.745890,51.899889),\n",
    "             (3.892931,52.034854))\n",
    "\n",
    "zeeland = ((3.299345,51.546999),\n",
    "           (4.350941,51.467881),\n",
    "           (4.273901,51.198332),\n",
    "           (3.064373,51.403045),\n",
    "           (3.299345,51.546999))\n",
    "\n",
    "den_helder = ((4.641531,53.027905),\n",
    "              (4.880262,53.010702),\n",
    "              (4.892696,52.923835),\n",
    "              (52.914838, 4.641531),\n",
    "              (4.641531,53.027905))\n",
    "\n",
    "urk = ((5.506152,52.730952),\n",
    "       (5.690174,52.709111),\n",
    "       (5.710574,52.598706),\n",
    "       (5.535640,52.626007),\n",
    "       (5.506152,52.730952)\n",
    "       )\n",
    "\n",
    "eemshaven = ((6.585831,53.652322),\n",
    "             (7.044206,53.753703),\n",
    "             (7.059318,53.266950),\n",
    "             (6.578275,53.367753),\n",
    "             (6.585831,53.652322))\n",
    "\n",
    "harlingen = ((5.336631,53.214196),\n",
    "             (5.525522,53.227767),\n",
    "             (5.487744,53.129655),\n",
    "             (5.319001,53.151561),\n",
    "             (5.336631,53.214196))\n",
    "\n",
    "eez = ((4.389826,53.336753),\n",
    "       (2.980557,51.565663),\n",
    "       (3.571947,51.381483),\n",
    "       (4.402408,52.167808),\n",
    "       (4.874262,52.864583),\n",
    "       (5.704723,53.310448),\n",
    "       (6.969290,53.297290),\n",
    "       (6.560350,53.721935),\n",
    "       (4.175919,53.548476),\n",
    "       (4.389826,53.336753))\n",
    "\n",
    "antwerpen = ((4.102983,51.395771),\n",
    "             (4.349450,51.392949),\n",
    "             (4.479467,51.224742),\n",
    "             (4.195691,51.230406),\n",
    "             (4.102983,51.395771))\n",
    "\n",
    "zeebrugge = ((3.117470,51.369696),\n",
    "             (3.260663,51.373926),\n",
    "             (3.289121,51.296882),\n",
    "             (3.133731,51.288972),\n",
    "             (3.117470,51.369696))\n",
    "\n",
    "oostende = ((2.879291,51.249601),\n",
    "            (2.964360,51.258848),\n",
    "            (2.979583,51.224091),\n",
    "            (2.885559,51.206983),\n",
    "            (2.879291,51.249601))"
   ]
  },
  {
   "cell_type": "code",
   "execution_count": null,
   "metadata": {},
   "outputs": [],
   "source": [
    "\n",
    "geom = Polygon(antwerpen).__geo_interface__\n",
    "path = PATH.joinpath('antwerpen.json')"
   ]
  },
  {
   "cell_type": "code",
   "execution_count": null,
   "metadata": {},
   "outputs": [],
   "source": [
    "result = gfw.get_events_by_flag_and_geometry(flag='RUS', \n",
    "                                             start_date='2020-01-01',\n",
    "                                             end_date='2024-01-01',\n",
    "                                             geometry=geom,\n",
    "                                             region=None,\n",
    "                                             path_out=path,\n",
    "                                             event_type='port_visits')\n",
    "\n",
    "len(result.get('entries'))"
   ]
  },
  {
   "cell_type": "markdown",
   "metadata": {},
   "source": [
    "## Parse data"
   ]
  },
  {
   "cell_type": "code",
   "execution_count": null,
   "metadata": {},
   "outputs": [],
   "source": [
    "records = []\n",
    "\n",
    "names = ['nl_pipes_loitering_4km']\n",
    "\n",
    "for name in names:\n",
    "\n",
    "    with open(PATH.joinpath('events', f'{name}.json'), 'r') as file:\n",
    "        file = file.read()\n",
    "        for entries in file:\n",
    "            entries = literal_eval(entries)\n",
    "            entries = entries.get('entries')\n",
    "            for entry in entries:\n",
    "                p = entry.get('position')\n",
    "                v = entry.get('vessel')\n",
    "                pv = entry.get('port_visit')\n",
    "\n",
    "                record = {'start': entry.get('start'),\n",
    "                        'end': entry.get('end'),\n",
    "                        'id': entry.get('id'),\n",
    "                        'lat': p.get('lat'),\n",
    "                        'lon': p.get('lon'),\n",
    "                        'vessel_id' : v.get('id'),\n",
    "                        'vessel_name': v.get('name'),\n",
    "                        'mmsi': v.get('ssvid'),\n",
    "                        'type': v.get('type'),\n",
    "                        'visit_id': pv.get('visit_id'),\n",
    "                        'confidence': pv.get('confidence'),\n",
    "                        'duration_hours': pv.get('durationHrs'),\n",
    "                        'file': f'{name}.json'}\n",
    "            \n",
    "                for item in pv.keys():\n",
    "                    if 'Anchorage' in item:\n",
    "                        items = pv.get(item)\n",
    "                        for key, value in items.items():\n",
    "                            record.update({f'{item[0]}_{key}'.lower(): value})\n",
    "                \n",
    "                records.append(record)\n",
    "\n",
    "df = pd.DataFrame(records)\n",
    "df.drop_duplicates(subset=['vessel_id', 'start', 'end'], inplace=True)\n",
    "len(df)"
   ]
  },
  {
   "cell_type": "code",
   "execution_count": null,
   "metadata": {},
   "outputs": [],
   "source": [
    "df.to_csv(PATH.joinpath('port_visits_belgium.csv'), index=False)"
   ]
  },
  {
   "cell_type": "markdown",
   "metadata": {},
   "source": [
    "## Get activity near infrastructure\n",
    "\n",
    "Let's create polygons (buffers) around pipelines, cables and other infrastructure and see if we can find Russian vessels loitering there."
   ]
  },
  {
   "cell_type": "code",
   "execution_count": null,
   "metadata": {},
   "outputs": [],
   "source": [
    "pipes = PATH.joinpath('gis', 'mps_mapping_pipeline.gpkg')"
   ]
  },
  {
   "cell_type": "code",
   "execution_count": null,
   "metadata": {},
   "outputs": [],
   "source": [
    "import fiona\n",
    "fiona.listlayers(pipes)"
   ]
  },
  {
   "cell_type": "code",
   "execution_count": null,
   "metadata": {},
   "outputs": [],
   "source": [
    "pipelines = gpd.read_file(PATH.joinpath('gis', 'mps_mapping_pipeline.gpkg'), layer='mps_mapping_pipeline')"
   ]
  },
  {
   "cell_type": "code",
   "execution_count": null,
   "metadata": {},
   "outputs": [],
   "source": [
    "pipelines = pipelines[(pipelines.admin_area_name.isin(['Belgium', 'Netherlands', 'Denmark', 'Norway', 'United Kingdom', 'Germany'])) & (pipelines.mps_est_shore_status=='OFFSHORE')].copy()\n",
    "len(pipelines)"
   ]
  },
  {
   "cell_type": "code",
   "execution_count": null,
   "metadata": {},
   "outputs": [],
   "source": [
    "pipelines.to_csv(PATH.joinpath('gis', 'pipes_ns.csv'), index=False)"
   ]
  },
  {
   "cell_type": "code",
   "execution_count": null,
   "metadata": {},
   "outputs": [],
   "source": [
    "pipelines.to_file(PATH.joinpath('gis', 'pipelines_for_gfw.geojson'), driver='GeoJSON')"
   ]
  },
  {
   "cell_type": "code",
   "execution_count": null,
   "metadata": {},
   "outputs": [],
   "source": [
    "nl = pipelines[pipelines.admin_area_name=='Netherlands'].copy()\n",
    "nl = nl.to_crs(28992)\n",
    "nl = nl.geometry.buffer(2000)\n",
    "nl = nl.reset_index(drop=True)"
   ]
  },
  {
   "cell_type": "code",
   "execution_count": null,
   "metadata": {},
   "outputs": [],
   "source": [
    "nl = nl.to_crs(4326)"
   ]
  },
  {
   "cell_type": "code",
   "execution_count": null,
   "metadata": {},
   "outputs": [],
   "source": [
    "for pipe in nl:\n",
    "    gfw.get_events_by_flag_and_geometry(flag='RUS',\n",
    "                                        start_date='2015-01-01',\n",
    "                                        end_date='2023-12-31',\n",
    "                                        event_type='loitering',\n",
    "                                        geometry=pipe.__geo_interface__,\n",
    "                                        path_out=PATH.joinpath('events', 'nl_pipes_loitering_4km.json'))\n",
    "    "
   ]
  },
  {
   "cell_type": "code",
   "execution_count": null,
   "metadata": {},
   "outputs": [],
   "source": []
  }
 ],
 "metadata": {
  "kernelspec": {
   "display_name": "geo",
   "language": "python",
   "name": "geo"
  },
  "language_info": {
   "codemirror_mode": {
    "name": "ipython",
    "version": 3
   },
   "file_extension": ".py",
   "mimetype": "text/x-python",
   "name": "python",
   "nbconvert_exporter": "python",
   "pygments_lexer": "ipython3",
   "version": "3.10.13"
  }
 },
 "nbformat": 4,
 "nbformat_minor": 2
}
