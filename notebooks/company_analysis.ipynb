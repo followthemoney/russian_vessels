{
 "cells": [
  {
   "cell_type": "code",
   "execution_count": null,
   "metadata": {},
   "outputs": [],
   "source": [
    "import sys\n",
    "sys.path.append('../src/')\n",
    "\n",
    "%load_ext autoreload\n",
    "%autoreload 2"
   ]
  },
  {
   "cell_type": "code",
   "execution_count": null,
   "metadata": {},
   "outputs": [],
   "source": [
    "from pathlib import Path\n",
    "import pandas as pd\n",
    "import numpy as np\n"
   ]
  },
  {
   "cell_type": "code",
   "execution_count": null,
   "metadata": {},
   "outputs": [],
   "source": [
    "PATH = Path.cwd().parent.joinpath('data', 'voi')"
   ]
  },
  {
   "cell_type": "code",
   "execution_count": null,
   "metadata": {},
   "outputs": [],
   "source": [
    "# Import vessel data\n",
    "\n",
    "dfs = []\n",
    "\n",
    "for file in PATH.joinpath('gfw_data', 'vessel_info').glob('*.csv'):\n",
    "    name = file.stem.split('-')[0]\n",
    "    dfs.append(pd.read_csv(file))\n",
    "\n",
    "df = pd.concat(dfs)\n",
    "len(df)\n"
   ]
  },
  {
   "cell_type": "code",
   "execution_count": null,
   "metadata": {},
   "outputs": [],
   "source": [
    "# Clean ownership data\n",
    "\n",
    "owner = df[['id', 'owner']].copy()\n",
    "owner.owner = owner.owner.str.split('|')\n",
    "owner = owner.explode('owner')\n",
    "owner['start_date'] = owner.owner.apply(lambda x: x.split(' (')[1] if x is not np.nan else x)\n",
    "owner['end_date'] = owner.start_date.apply(lambda x: x.split('Z-')[1] if x is not np.nan else x)\n",
    "owner.start_date = owner.start_date.apply(lambda x: pd.to_datetime(x[0:10]) if x is not np.nan else x)\n",
    "owner.end_date = owner.end_date.apply(lambda x: pd.to_datetime(x[0:10]) if x is not np.nan else x)\n",
    "owner.owner = owner.owner.apply(lambda x: x.split(' (')[0].split('-')[0] if x is not np.nan else x)\n",
    "owner.head()"
   ]
  },
  {
   "cell_type": "code",
   "execution_count": null,
   "metadata": {},
   "outputs": [],
   "source": [
    "owner.groupby(owner.end_date.dt.year).agg(aantal_bedrijven=('owner', lambda x: x.nunique()))"
   ]
  },
  {
   "cell_type": "code",
   "execution_count": null,
   "metadata": {},
   "outputs": [],
   "source": [
    "owner.groupby('id').owner.count().sort_values(ascending=False).nlargest(10)"
   ]
  },
  {
   "cell_type": "code",
   "execution_count": null,
   "metadata": {},
   "outputs": [],
   "source": [
    "owner[owner.start_date > '2022-02-22'].owner.value_counts()"
   ]
  },
  {
   "cell_type": "code",
   "execution_count": null,
   "metadata": {},
   "outputs": [],
   "source": []
  }
 ],
 "metadata": {
  "kernelspec": {
   "display_name": "geo",
   "language": "python",
   "name": "geo"
  },
  "language_info": {
   "codemirror_mode": {
    "name": "ipython",
    "version": 3
   },
   "file_extension": ".py",
   "mimetype": "text/x-python",
   "name": "python",
   "nbconvert_exporter": "python",
   "pygments_lexer": "ipython3",
   "version": "3.9.18"
  }
 },
 "nbformat": 4,
 "nbformat_minor": 2
}
