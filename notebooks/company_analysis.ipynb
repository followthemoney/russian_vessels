{
 "cells": [
  {
   "cell_type": "code",
   "execution_count": 1,
   "metadata": {},
   "outputs": [],
   "source": [
    "import sys\n",
    "sys.path.append('../src/')\n",
    "\n",
    "%load_ext autoreload\n",
    "%autoreload 2"
   ]
  },
  {
   "cell_type": "code",
   "execution_count": 2,
   "metadata": {},
   "outputs": [],
   "source": [
    "from pathlib import Path\n",
    "import pandas as pd\n",
    "import numpy as np\n"
   ]
  },
  {
   "cell_type": "code",
   "execution_count": 3,
   "metadata": {},
   "outputs": [],
   "source": [
    "PATH = Path.cwd().parent.joinpath('data', 'voi')"
   ]
  },
  {
   "cell_type": "code",
   "execution_count": 4,
   "metadata": {},
   "outputs": [
    {
     "data": {
      "text/plain": [
       "232"
      ]
     },
     "execution_count": 4,
     "metadata": {},
     "output_type": "execute_result"
    }
   ],
   "source": [
    "# Import vessel data\n",
    "\n",
    "dfs = []\n",
    "\n",
    "for file in PATH.joinpath('gfw_data', 'vessel_info').glob('*.csv'):\n",
    "    name = file.stem.split('-')[0]\n",
    "    dfs.append(pd.read_csv(file))\n",
    "\n",
    "df = pd.concat(dfs)\n",
    "len(df)\n"
   ]
  },
  {
   "cell_type": "code",
   "execution_count": 5,
   "metadata": {},
   "outputs": [
    {
     "data": {
      "text/html": [
       "<div>\n",
       "<style scoped>\n",
       "    .dataframe tbody tr th:only-of-type {\n",
       "        vertical-align: middle;\n",
       "    }\n",
       "\n",
       "    .dataframe tbody tr th {\n",
       "        vertical-align: top;\n",
       "    }\n",
       "\n",
       "    .dataframe thead th {\n",
       "        text-align: right;\n",
       "    }\n",
       "</style>\n",
       "<table border=\"1\" class=\"dataframe\">\n",
       "  <thead>\n",
       "    <tr style=\"text-align: right;\">\n",
       "      <th></th>\n",
       "      <th>id</th>\n",
       "      <th>owner</th>\n",
       "      <th>start_date</th>\n",
       "      <th>end_date</th>\n",
       "    </tr>\n",
       "  </thead>\n",
       "  <tbody>\n",
       "    <tr>\n",
       "      <th>0</th>\n",
       "      <td>afdc56c195a6d87d098b54fff09cda96</td>\n",
       "      <td>TAVR</td>\n",
       "      <td>2018-09-19</td>\n",
       "      <td>2024-02-29</td>\n",
       "    </tr>\n",
       "    <tr>\n",
       "      <th>0</th>\n",
       "      <td>afdc56c195a6d87d098b54fff09cda96</td>\n",
       "      <td>MENRON</td>\n",
       "      <td>2018-09-19</td>\n",
       "      <td>2024-02-29</td>\n",
       "    </tr>\n",
       "    <tr>\n",
       "      <th>0</th>\n",
       "      <td>c02d4df5d65d5b36f8ba62703fb2da05</td>\n",
       "      <td>NORTHERN SHIPPING</td>\n",
       "      <td>2014-01-01</td>\n",
       "      <td>2023-01-18</td>\n",
       "    </tr>\n",
       "    <tr>\n",
       "      <th>0</th>\n",
       "      <td>69dc5cb5a-a5db-0ca2-11c0-f6d7c6b3572e</td>\n",
       "      <td>NaN</td>\n",
       "      <td>NaT</td>\n",
       "      <td>NaT</td>\n",
       "    </tr>\n",
       "    <tr>\n",
       "      <th>0</th>\n",
       "      <td>a7986785254313f9976b4509c152ca21</td>\n",
       "      <td>VOLGA SHIPPING JOINT STOCK</td>\n",
       "      <td>2014-01-01</td>\n",
       "      <td>2024-02-29</td>\n",
       "    </tr>\n",
       "  </tbody>\n",
       "</table>\n",
       "</div>"
      ],
      "text/plain": [
       "                                      id                       owner  \\\n",
       "0       afdc56c195a6d87d098b54fff09cda96                        TAVR   \n",
       "0       afdc56c195a6d87d098b54fff09cda96                      MENRON   \n",
       "0       c02d4df5d65d5b36f8ba62703fb2da05           NORTHERN SHIPPING   \n",
       "0  69dc5cb5a-a5db-0ca2-11c0-f6d7c6b3572e                         NaN   \n",
       "0       a7986785254313f9976b4509c152ca21  VOLGA SHIPPING JOINT STOCK   \n",
       "\n",
       "  start_date   end_date  \n",
       "0 2018-09-19 2024-02-29  \n",
       "0 2018-09-19 2024-02-29  \n",
       "0 2014-01-01 2023-01-18  \n",
       "0        NaT        NaT  \n",
       "0 2014-01-01 2024-02-29  "
      ]
     },
     "execution_count": 5,
     "metadata": {},
     "output_type": "execute_result"
    }
   ],
   "source": [
    "# Clean ownership data\n",
    "\n",
    "owner = df[['id', 'owner']].copy()\n",
    "owner.owner = owner.owner.str.split('|')\n",
    "owner = owner.explode('owner')\n",
    "owner['start_date'] = owner.owner.apply(lambda x: x.split(' (')[1] if x is not np.nan else x)\n",
    "owner['end_date'] = owner.start_date.apply(lambda x: x.split('Z-')[1] if x is not np.nan else x)\n",
    "owner.start_date = owner.start_date.apply(lambda x: pd.to_datetime(x[0:10]) if x is not np.nan else x)\n",
    "owner.end_date = owner.end_date.apply(lambda x: pd.to_datetime(x[0:10]) if x is not np.nan else x)\n",
    "owner.owner = owner.owner.apply(lambda x: x.split(' (')[0].split('-')[0] if x is not np.nan else x)\n",
    "owner.head()"
   ]
  },
  {
   "cell_type": "code",
   "execution_count": 6,
   "metadata": {},
   "outputs": [
    {
     "data": {
      "text/html": [
       "<div>\n",
       "<style scoped>\n",
       "    .dataframe tbody tr th:only-of-type {\n",
       "        vertical-align: middle;\n",
       "    }\n",
       "\n",
       "    .dataframe tbody tr th {\n",
       "        vertical-align: top;\n",
       "    }\n",
       "\n",
       "    .dataframe thead th {\n",
       "        text-align: right;\n",
       "    }\n",
       "</style>\n",
       "<table border=\"1\" class=\"dataframe\">\n",
       "  <thead>\n",
       "    <tr style=\"text-align: right;\">\n",
       "      <th></th>\n",
       "      <th>aantal_bedrijven</th>\n",
       "    </tr>\n",
       "    <tr>\n",
       "      <th>end_date</th>\n",
       "      <th></th>\n",
       "    </tr>\n",
       "  </thead>\n",
       "  <tbody>\n",
       "    <tr>\n",
       "      <th>2016.0</th>\n",
       "      <td>2</td>\n",
       "    </tr>\n",
       "    <tr>\n",
       "      <th>2017.0</th>\n",
       "      <td>7</td>\n",
       "    </tr>\n",
       "    <tr>\n",
       "      <th>2018.0</th>\n",
       "      <td>3</td>\n",
       "    </tr>\n",
       "    <tr>\n",
       "      <th>2019.0</th>\n",
       "      <td>2</td>\n",
       "    </tr>\n",
       "    <tr>\n",
       "      <th>2020.0</th>\n",
       "      <td>2</td>\n",
       "    </tr>\n",
       "    <tr>\n",
       "      <th>2021.0</th>\n",
       "      <td>7</td>\n",
       "    </tr>\n",
       "    <tr>\n",
       "      <th>2022.0</th>\n",
       "      <td>6</td>\n",
       "    </tr>\n",
       "    <tr>\n",
       "      <th>2023.0</th>\n",
       "      <td>31</td>\n",
       "    </tr>\n",
       "    <tr>\n",
       "      <th>2024.0</th>\n",
       "      <td>105</td>\n",
       "    </tr>\n",
       "  </tbody>\n",
       "</table>\n",
       "</div>"
      ],
      "text/plain": [
       "          aantal_bedrijven\n",
       "end_date                  \n",
       "2016.0                   2\n",
       "2017.0                   7\n",
       "2018.0                   3\n",
       "2019.0                   2\n",
       "2020.0                   2\n",
       "2021.0                   7\n",
       "2022.0                   6\n",
       "2023.0                  31\n",
       "2024.0                 105"
      ]
     },
     "execution_count": 6,
     "metadata": {},
     "output_type": "execute_result"
    }
   ],
   "source": [
    "owner.groupby(owner.end_date.dt.year).agg(aantal_bedrijven=('owner', lambda x: x.nunique()))"
   ]
  },
  {
   "cell_type": "code",
   "execution_count": 7,
   "metadata": {},
   "outputs": [
    {
     "data": {
      "text/plain": [
       "id\n",
       "0937cfe77a5a003794abac7f4bed1666    7\n",
       "dde5c260378aa0728258667e6bf0cc8d    5\n",
       "38bb7eb7ecaa8961aa06a209ed3f70ca    5\n",
       "012b1605fb79de2bd760a3cffbde3840    4\n",
       "f286a02f534c16a1bc14ba274d77d756    4\n",
       "d8c5381fe5f7141be889cb856dff86cf    4\n",
       "d69db440341cc98aed61631c2244c07a    4\n",
       "41e9b7938527f5f06661562efcede268    4\n",
       "c6cae58a7ac8d235cddc64f703484856    4\n",
       "c3e22e0e3dc28668dc9dbcc4aab1de79    4\n",
       "Name: owner, dtype: int64"
      ]
     },
     "execution_count": 7,
     "metadata": {},
     "output_type": "execute_result"
    }
   ],
   "source": [
    "owner.groupby('id').owner.count().sort_values(ascending=False).nlargest(10)"
   ]
  },
  {
   "cell_type": "code",
   "execution_count": 10,
   "metadata": {},
   "outputs": [
    {
     "data": {
      "text/plain": [
       "owner\n",
       "MG FLOT                     5\n",
       "ANTEY                       2\n",
       "EGOR LETOV SHIPPING         2\n",
       "JSC GTLK                    1\n",
       "SCF ECO                     1\n",
       "IDAN SHIPPING               1\n",
       "TRANSMORFLOT                1\n",
       "INVESTNEFTETRADE            1\n",
       "TRAFFER AIRCRAFT LEASING    1\n",
       "FARVATER                    1\n",
       "ESPERANTO                   1\n",
       "Name: count, dtype: int64"
      ]
     },
     "execution_count": 10,
     "metadata": {},
     "output_type": "execute_result"
    }
   ],
   "source": [
    "owner[owner.start_date > '2022-02-22'].owner.value_counts()"
   ]
  },
  {
   "cell_type": "code",
   "execution_count": null,
   "metadata": {},
   "outputs": [],
   "source": []
  }
 ],
 "metadata": {
  "kernelspec": {
   "display_name": "geo",
   "language": "python",
   "name": "geo"
  },
  "language_info": {
   "codemirror_mode": {
    "name": "ipython",
    "version": 3
   },
   "file_extension": ".py",
   "mimetype": "text/x-python",
   "name": "python",
   "nbconvert_exporter": "python",
   "pygments_lexer": "ipython3",
   "version": "3.9.18"
  }
 },
 "nbformat": 4,
 "nbformat_minor": 2
}
