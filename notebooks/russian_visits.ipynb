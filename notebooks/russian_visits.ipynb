{
 "cells": [
  {
   "cell_type": "code",
   "execution_count": null,
   "metadata": {},
   "outputs": [],
   "source": [
    "import sys\n",
    "sys.path.append('../src/')\n",
    "\n",
    "%load_ext autoreload\n",
    "%autoreload 2\n"
   ]
  },
  {
   "cell_type": "code",
   "execution_count": null,
   "metadata": {},
   "outputs": [],
   "source": [
    "import geopandas as gpd\n",
    "import gfw\n",
    "from pathlib import Path\n",
    "import pandas as pd\n",
    "from shapely import Polygon\n",
    "from ast import literal_eval"
   ]
  },
  {
   "cell_type": "code",
   "execution_count": null,
   "metadata": {},
   "outputs": [],
   "source": [
    "PATH = Path.cwd().parent.joinpath('data')"
   ]
  },
  {
   "cell_type": "code",
   "execution_count": null,
   "metadata": {},
   "outputs": [],
   "source": [
    "# Get EEZ region\n",
    "\n",
    "results = gfw.get_eez_list()\n",
    "\n",
    "nl = [x for x in results if x.get('label') == 'Netherlands']\n",
    "region = nl[0].get('id')\n"
   ]
  },
  {
   "cell_type": "code",
   "execution_count": null,
   "metadata": {},
   "outputs": [],
   "source": [
    "# Create Polygons for ports\n",
    "\n",
    "ijmuiden = ((4.504274, 52.493004),\n",
    "          (4.910082, 52.449922),\n",
    "          (4.89085588546282, 52.37956124860245),\n",
    "          (4.394411, 52.413918),\n",
    "          (4.504274, 52.493004))\n",
    "\n",
    "rotterdam = ((3.892931,52.034854),\n",
    "             (4.443900,51.956091),\n",
    "             (4.423893,51.803771),\n",
    "             (3.745890,51.899889),\n",
    "             (3.892931,52.034854))\n",
    "\n",
    "zeeland = ((3.299345,51.546999),\n",
    "           (4.350941,51.467881),\n",
    "           (4.273901,51.198332),\n",
    "           (3.064373,51.403045),\n",
    "           (3.299345,51.546999))\n",
    "\n",
    "den_helder = ((4.641531,53.027905),\n",
    "              (4.880262,53.010702),\n",
    "              (4.892696,52.923835),\n",
    "              (52.914838, 4.641531),\n",
    "              (4.641531,53.027905))\n",
    "\n",
    "urk = ((5.506152,52.730952),\n",
    "       (5.690174,52.709111),\n",
    "       (5.710574,52.598706),\n",
    "       (5.535640,52.626007),\n",
    "       (5.506152,52.730952)\n",
    "       )\n",
    "\n",
    "eemshaven = ((6.585831,53.652322),\n",
    "             (7.044206,53.753703),\n",
    "             (7.059318,53.266950),\n",
    "             (6.578275,53.367753),\n",
    "             (6.585831,53.652322))\n",
    "\n",
    "harlingen = ((5.336631,53.214196),\n",
    "             (5.525522,53.227767),\n",
    "             (5.487744,53.129655),\n",
    "             (5.319001,53.151561),\n",
    "             (5.336631,53.214196))\n",
    "\n",
    "eez = ((4.389826,53.336753),\n",
    "       (2.980557,51.565663),\n",
    "       (3.571947,51.381483),\n",
    "       (4.402408,52.167808),\n",
    "       (4.874262,52.864583),\n",
    "       (5.704723,53.310448),\n",
    "       (6.969290,53.297290),\n",
    "       (6.560350,53.721935),\n",
    "       (4.175919,53.548476),\n",
    "       (4.389826,53.336753))\n",
    "\n",
    "antwerpen = ((4.102983,51.395771),\n",
    "             (4.349450,51.392949),\n",
    "             (4.479467,51.224742),\n",
    "             (4.195691,51.230406),\n",
    "             (4.102983,51.395771))\n",
    "\n",
    "zeebrugge = ((3.117470,51.369696),\n",
    "             (3.260663,51.373926),\n",
    "             (3.289121,51.296882),\n",
    "             (3.133731,51.288972),\n",
    "             (3.117470,51.369696))\n",
    "\n",
    "oostende = ((2.879291,51.249601),\n",
    "            (2.964360,51.258848),\n",
    "            (2.979583,51.224091),\n",
    "            (2.885559,51.206983),\n",
    "            (2.879291,51.249601))"
   ]
  },
  {
   "cell_type": "code",
   "execution_count": null,
   "metadata": {},
   "outputs": [],
   "source": [
    "\n",
    "geom = Polygon(antwerpen).__geo_interface__\n",
    "path = PATH.joinpath('antwerpen.json')"
   ]
  },
  {
   "cell_type": "code",
   "execution_count": null,
   "metadata": {},
   "outputs": [],
   "source": [
    "result = gfw.get_events_by_flag_and_geometry(flag='RUS', \n",
    "                                             start_date='2020-01-01',\n",
    "                                             end_date='2024-01-01',\n",
    "                                             geometry=geom,\n",
    "                                             region=None,\n",
    "                                             path_out=path,\n",
    "                                             event_type='port_visits')\n",
    "\n",
    "len(result.get('entries'))"
   ]
  },
  {
   "cell_type": "markdown",
   "metadata": {},
   "source": [
    "## Parse data"
   ]
  },
  {
   "cell_type": "code",
   "execution_count": null,
   "metadata": {},
   "outputs": [],
   "source": [
    "records = []\n",
    "\n",
    "names = ['nl_pipes_loitering_4km']\n",
    "\n",
    "for name in names:\n",
    "\n",
    "    with open(PATH.joinpath('events', f'{name}.json'), 'r') as file:\n",
    "        file = file.read()\n",
    "        for entries in file:\n",
    "            entries = literal_eval(entries)\n",
    "            entries = entries.get('entries')\n",
    "            for entry in entries:\n",
    "                p = entry.get('position')\n",
    "                v = entry.get('vessel')\n",
    "                pv = entry.get('port_visit')\n",
    "\n",
    "                record = {'start': entry.get('start'),\n",
    "                        'end': entry.get('end'),\n",
    "                        'id': entry.get('id'),\n",
    "                        'lat': p.get('lat'),\n",
    "                        'lon': p.get('lon'),\n",
    "                        'vessel_id' : v.get('id'),\n",
    "                        'vessel_name': v.get('name'),\n",
    "                        'mmsi': v.get('ssvid'),\n",
    "                        'type': v.get('type'),\n",
    "                        'visit_id': pv.get('visit_id'),\n",
    "                        'confidence': pv.get('confidence'),\n",
    "                        'duration_hours': pv.get('durationHrs'),\n",
    "                        'file': f'{name}.json'}\n",
    "            \n",
    "                for item in pv.keys():\n",
    "                    if 'Anchorage' in item:\n",
    "                        items = pv.get(item)\n",
    "                        for key, value in items.items():\n",
    "                            record.update({f'{item[0]}_{key}'.lower(): value})\n",
    "                \n",
    "                records.append(record)\n",
    "\n",
    "df = pd.DataFrame(records)\n",
    "df.drop_duplicates(subset=['vessel_id', 'start', 'end'], inplace=True)\n",
    "len(df)"
   ]
  },
  {
   "cell_type": "code",
   "execution_count": null,
   "metadata": {},
   "outputs": [],
   "source": [
    "df.to_csv(PATH.joinpath('port_visits_belgium.csv'), index=False)"
   ]
  },
  {
   "cell_type": "markdown",
   "metadata": {},
   "source": [
    "## Get activity near infrastructure\n",
    "\n",
    "Let's create polygons (buffers) around pipelines, cables and other infrastructure and see if we can find Russian vessels loitering there."
   ]
  },
  {
   "cell_type": "code",
   "execution_count": null,
   "metadata": {},
   "outputs": [],
   "source": [
    "pipes = PATH.joinpath('gis', 'mps_mapping_pipeline.gpkg')"
   ]
  },
  {
   "cell_type": "code",
   "execution_count": null,
   "metadata": {},
   "outputs": [],
   "source": [
    "import fiona\n",
    "fiona.listlayers(pipes)"
   ]
  },
  {
   "cell_type": "code",
   "execution_count": null,
   "metadata": {},
   "outputs": [],
   "source": [
    "pipelines = gpd.read_file(PATH.joinpath('gis', 'mps_mapping_pipeline.gpkg'), layer='mps_mapping_pipeline')"
   ]
  },
  {
   "cell_type": "code",
   "execution_count": null,
   "metadata": {},
   "outputs": [],
   "source": [
    "pipelines = pipelines[(pipelines.admin_area_name.isin(['Belgium', 'Netherlands', 'Denmark', 'Norway', 'United Kingdom', 'Germany'])) & (pipelines.mps_est_shore_status=='OFFSHORE')].copy()\n",
    "len(pipelines)"
   ]
  },
  {
   "cell_type": "code",
   "execution_count": null,
   "metadata": {},
   "outputs": [],
   "source": [
    "pipelines.to_csv(PATH.joinpath('gis', 'pipes_ns.csv'), index=False)"
   ]
  },
  {
   "cell_type": "code",
   "execution_count": null,
   "metadata": {},
   "outputs": [],
   "source": [
    "pipelines.to_file(PATH.joinpath('gis', 'pipelines_for_gfw.geojson'), driver='GeoJSON')"
   ]
  },
  {
   "cell_type": "code",
   "execution_count": null,
   "metadata": {},
   "outputs": [],
   "source": [
    "nl = pipelines[pipelines.admin_area_name=='Netherlands'].copy()\n",
    "nl = nl.to_crs(28992)\n",
    "nl = nl.geometry.buffer(2000)\n",
    "nl = nl.reset_index(drop=True)"
   ]
  },
  {
   "cell_type": "code",
   "execution_count": null,
   "metadata": {},
   "outputs": [],
   "source": [
    "nl = nl.to_crs(4326)"
   ]
  },
  {
   "cell_type": "code",
   "execution_count": null,
   "metadata": {},
   "outputs": [],
   "source": [
    "for pipe in nl:\n",
    "    gfw.get_events_by_flag_and_geometry(flag='RUS',\n",
    "                                        start_date='2015-01-01',\n",
    "                                        end_date='2023-12-31',\n",
    "                                        event_type='loitering',\n",
    "                                        geometry=pipe.__geo_interface__,\n",
    "                                        path_out=PATH.joinpath('events', 'nl_pipes_loitering_4km.json'))\n",
    "    "
   ]
  },
  {
   "cell_type": "code",
   "execution_count": null,
   "metadata": {},
   "outputs": [],
   "source": []
  }
 ],
 "metadata": {
  "kernelspec": {
   "display_name": "geo",
   "language": "python",
   "name": "geo"
  },
  "language_info": {
   "codemirror_mode": {
    "name": "ipython",
    "version": 3
   },
   "file_extension": ".py",
   "mimetype": "text/x-python",
   "name": "python",
   "nbconvert_exporter": "python",
   "pygments_lexer": "ipython3",
   "version": "3.9.18"
  }
 },
 "nbformat": 4,
 "nbformat_minor": 2
}
